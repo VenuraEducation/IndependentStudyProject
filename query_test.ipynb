
# Analysis of Query Results and Syntax Validation

This notebook analyzes the results and syntax correctness of queries from a provided dataset.

## Importing Required Libraries

```python
import pandas as pd
import matplotlib.pyplot as plt
```

## Load the Data

```python
# Load the data from an Excel file
file_path = 'Log_QnA_with_results.xlsx'
data = pd.read_excel(file_path)

# Display the first few rows to confirm
data.head()
```

## Analysis 1: Count of 'Query Syntax is correct' and 'Query Shows the Accurate Information'

```python
# Count of 'Query Syntax is correct'
syntax_count = data['Query Syntax is correct'].value_counts()

# Count of 'Query Shows the Accurate Information'
accuracy_count = data['Query Shows the Accurate Information'].value_counts()

syntax_count, accuracy_count
```

## Visualization of Counts

```python
# Plot for 'Query Syntax is correct'
plt.figure(figsize=(10, 5))
plt.subplot(1, 2, 1)
syntax_count.plot(kind='bar', color='skyblue')
plt.title('Query Syntax is correct')
plt.xlabel('Is Correct')
plt.ylabel('Count')

# Plot for 'Query Shows the Accurate Information'
plt.subplot(1, 2, 2)
accuracy_count.plot(kind='bar', color='lightgreen')
plt.title('Query Shows Accurate Information')
plt.xlabel('Is Accurate')
plt.ylabel('Count')
plt.tight_layout()
plt.show()
```

## Analysis 2: Ratio of 'Query Syntax is correct' and 'Query Shows the Accurate Information'

```python
# Filter the data where syntax is correct but information is not accurate
incorrect_info_correct_syntax = data[(data['Query Syntax is correct'] == 'yes') & (data['Query Shows the Accurate Information'] == 'No')]

# Calculate the ratio
ratio_incorrect_info = len(incorrect_info_correct_syntax) / len(data)
ratio_incorrect_info
```

## Analysis 3: Type of Queries Giving Incorrect Syntaxes

```python
# Queries with incorrect syntax
incorrect_syntax_queries = data[data['Query Syntax is correct'] == 'no']
incorrect_syntax_queries[['Question', 'Answer']]
```

## Analysis 4: Syntactically Correct but Inaccurate Information

```python
# Queries that are syntactically correct but providing inaccurate results
correct_syntax_inaccurate_info = data[(data['Query Syntax is correct'] == 'yes') & (data['Query Shows the Accurate Information'] == 'No')]
correct_syntax_inaccurate_info[['Question', 'Answer']]
```
