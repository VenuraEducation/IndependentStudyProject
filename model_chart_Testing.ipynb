{
 "cells": [
  {
   "cell_type": "code",
   "execution_count": 3,
   "metadata": {},
   "outputs": [],
   "source": [
    "from langchain_google_genai import GoogleGenerativeAI\n",
    "from langchain_core.output_parsers import JsonOutputParser\n",
    "from langchain.prompts.few_shot import FewShotPromptTemplate\n",
    "from langchain.prompts.prompt import PromptTemplate\n",
    "import os\n",
    "from dotenv import load_dotenv"
   ]
  },
  {
   "cell_type": "code",
   "execution_count": 4,
   "metadata": {},
   "outputs": [
    {
     "data": {
      "text/plain": [
       "True"
      ]
     },
     "execution_count": 4,
     "metadata": {},
     "output_type": "execute_result"
    }
   ],
   "source": [
    "load_dotenv()"
   ]
  },
  {
   "cell_type": "code",
   "execution_count": 5,
   "metadata": {},
   "outputs": [],
   "source": [
    "llm = GoogleGenerativeAI(model=\"gemini-pro\",google_api_key=os.environ['GOOGLE_API_KEY'], temperature=0.2)"
   ]
  },
  {
   "cell_type": "code",
   "execution_count": 6,
   "metadata": {},
   "outputs": [],
   "source": [
    "examples = [\n",
    "    {\n",
    "        \"userInput\": \"i need bar chart who are the clients we worked in Germeny in last 6 months with no of shipments?\",\n",
    "        \"sql_query\": \"\"\"select BillingClientName, count(ShipmentNumber) as ShipmentCount\n",
    "                    from RevandVolume_ShipmentDate\n",
    "                    where ShipmentDate >= DATEADD(MONTH, -6, GETDATE()) AND ShipmentDate <= GETDATE() \n",
    "                    and OriginCountry = 'Germeny' group by BillingClientName order by ShipmentCount desc\n",
    "                    \"\"\",\n",
    "        \"chart_type\": \"bar chart\",\n",
    "        \"chart_columns\": \"BillingClientName, ShipmentCount\",\n",
    "    },\n",
    "    {\n",
    "        \"userInput\": \"i want Bar chart on agent list and their shipment count who worked with us in Sri Lanka in last 2 months.\",\n",
    "        \"sql_query\": \"\"\"select distinct AgentName, count(*) as shipment_count \n",
    "                    from RevandVolume_ShipmentDate WHERE AgentCountryName like 'United kingdom' and INCO = 'EXW'  \n",
    "                    and ShipmentDate >= DATEADD(MONTH, -2, GETDATE()) AND ShipmentDate <= GETDATE()\n",
    "                    group by AgentName\\n\"\"\",\n",
    "        \"chart_type\": \"bar chart\",\n",
    "        \"chart_columns\": \"AgentName, shipment_count\",\n",
    "    }\n",
    "]"
   ]
  },
  {
   "cell_type": "code",
   "execution_count": 7,
   "metadata": {},
   "outputs": [],
   "source": [
    "exaple_prompt = PromptTemplate(\n",
    "    input_variables=[\"userInput\", \"sql_query\", \"chart_type\", \"chart_columns\"],\n",
    "    template=\"Question: {userInput}\\nSQL Query: {sql_query}\\nChart Type: {chart_type}\\nColumns: {chart_columns}\",\n",
    ")"
   ]
  },
  {
   "cell_type": "code",
   "execution_count": 8,
   "metadata": {},
   "outputs": [
    {
     "name": "stdout",
     "output_type": "stream",
     "text": [
      "Question: i need bar chart who are the clients we worked in Germeny in last 6 months with no of shipments?\n",
      "SQL Query: select BillingClientName, count(ShipmentNumber) as ShipmentCount\n",
      "                    from RevandVolume_ShipmentDate\n",
      "                    where ShipmentDate >= DATEADD(MONTH, -6, GETDATE()) AND ShipmentDate <= GETDATE() \n",
      "                    and OriginCountry = 'Germeny' group by BillingClientName order by ShipmentCount desc\n",
      "                    \n",
      "Chart Type: bar chart\n",
      "Columns: BillingClientName, ShipmentCount\n"
     ]
    }
   ],
   "source": [
    "print(exaple_prompt.format(**examples[0]))"
   ]
  },
  {
   "cell_type": "code",
   "execution_count": null,
   "metadata": {},
   "outputs": [],
   "source": []
  },
  {
   "cell_type": "code",
   "execution_count": 144,
   "metadata": {},
   "outputs": [],
   "source": [
    "chart_prompt = \"\"\"You are now generating visualizations based on the User Input and the SQL query provided.\n",
    "First Identify the visualization type from the following list: bar chart, area chart, scatter chart, line chart, tabulate.\n",
    "Then Identify the columns to be displayed in the visualization. Pay attention to use only Question & SQL Query as input to generate the visualization.\n",
    "If you cannot find the visualization type or columns, then just use Chart Type: None and Columns: None\n",
    "\n",
    "Use the following format:\n",
    "\n",
    "Question: Question here\n",
    "SQLQuery: SQL Query here\n",
    "Chart Type: Identified chart type which user needed to generate\n",
    "Columns: Identified columns which needs to generate charts\n",
    "\n",
    "No pre-amble.\"\"\""
   ]
  },
  {
   "cell_type": "code",
   "execution_count": 10,
   "metadata": {},
   "outputs": [
    {
     "name": "stdout",
     "output_type": "stream",
     "text": [
      "Only use the following tables:\n",
      "{table_info}\n",
      "\n",
      "Question: {input}\n"
     ]
    }
   ],
   "source": [
    "from langchain.chains.sql_database.prompt import PROMPT_SUFFIX\n",
    "print(PROMPT_SUFFIX)"
   ]
  },
  {
   "cell_type": "code",
   "execution_count": 145,
   "metadata": {},
   "outputs": [],
   "source": [
    "prompt = FewShotPromptTemplate(\n",
    "    examples=examples,\n",
    "    example_prompt=exaple_prompt,\n",
    "    prefix=chart_prompt,\n",
    "    suffix=\"\"\"Question: {input}\n",
    "    SQLQuery:{sql_query}\"\"\",\n",
    "    input_variables=[\"input\", \"sql_query\"],\n",
    ")"
   ]
  },
  {
   "cell_type": "code",
   "execution_count": 146,
   "metadata": {},
   "outputs": [
    {
     "data": {
      "text/plain": [
       "FewShotPromptTemplate(input_variables=['input', 'sql_query'], examples=[{'userInput': 'i need bar chart who are the clients we worked in Germeny in last 6 months with no of shipments?', 'sql_query': \"select BillingClientName, count(ShipmentNumber) as ShipmentCount\\n                    from RevandVolume_ShipmentDate\\n                    where ShipmentDate >= DATEADD(MONTH, -6, GETDATE()) AND ShipmentDate <= GETDATE() \\n                    and OriginCountry = 'Germeny' group by BillingClientName order by ShipmentCount desc\\n                    \", 'chart_type': 'bar chart', 'chart_columns': 'BillingClientName, ShipmentCount'}, {'userInput': 'i want Bar chart on agent list and their shipment count who worked with us in Sri Lanka in last 2 months.', 'sql_query': \"select distinct AgentName, count(*) as shipment_count \\n                    from RevandVolume_ShipmentDate WHERE AgentCountryName like 'United kingdom' and INCO = 'EXW'  \\n                    and ShipmentDate >= DATEADD(MONTH, -2, GETDATE()) AND ShipmentDate <= GETDATE()\\n                    group by AgentName\\n\", 'chart_type': 'bar chart', 'chart_columns': 'AgentName, shipment_count'}], example_prompt=PromptTemplate(input_variables=['chart_columns', 'chart_type', 'sql_query', 'userInput'], template='Question: {userInput}\\nSQL Query: {sql_query}\\nChart Type: {chart_type}\\nColumns: {chart_columns}'), suffix='Question: {input}\\n    SQLQuery:{sql_query}', prefix='You are now generating visualizations based on the User Input and the SQL query provided.\\nFirst Identify the visualization type from the following list: bar chart, area chart, scatter chart, line chart, tabulate.\\nThen Identify the columns to be displayed in the visualization. Pay attention to use only Question & SQL Query as input to generate the visualization.\\nIf you cannot find the visualization type or columns, then just use Chart Type: None and Columns: None\\n\\nUse the following format:\\n\\nQuestion: Question here\\nSQLQuery: SQL Query here\\nChart Type: Identified chart type which user needed to generate\\nColumns: Identified columns which needs to generate charts\\n\\nNo pre-amble.')"
      ]
     },
     "execution_count": 146,
     "metadata": {},
     "output_type": "execute_result"
    }
   ],
   "source": [
    "prompt"
   ]
  },
  {
   "cell_type": "code",
   "execution_count": 147,
   "metadata": {},
   "outputs": [
    {
     "name": "stdout",
     "output_type": "stream",
     "text": [
      "You are now generating visualizations based on the User Input and the SQL query provided.\n",
      "First Identify the visualization type from the following list: bar chart, area chart, scatter chart, line chart, tabulate.\n",
      "Then Identify the columns to be displayed in the visualization. Pay attention to use only Question & SQL Query as input to generate the visualization.\n",
      "If you cannot find the visualization type or columns, then just use Chart Type: None and Columns: None\n",
      "\n",
      "Use the following format:\n",
      "\n",
      "Question: Question here\n",
      "SQLQuery: SQL Query here\n",
      "Chart Type: Identified chart type which user needed to generate\n",
      "Columns: Identified columns which needs to generate charts\n",
      "\n",
      "No pre-amble.\n",
      "\n",
      "Question: i need bar chart who are the clients we worked in Germeny in last 6 months with no of shipments?\n",
      "SQL Query: select BillingClientName, count(ShipmentNumber) as ShipmentCount\n",
      "                    from RevandVolume_ShipmentDate\n",
      "                    where ShipmentDate >= DATEADD(MONTH, -6, GETDATE()) AND ShipmentDate <= GETDATE() \n",
      "                    and OriginCountry = 'Germeny' group by BillingClientName order by ShipmentCount desc\n",
      "                    \n",
      "Chart Type: bar chart\n",
      "Columns: BillingClientName, ShipmentCount\n",
      "\n",
      "Question: i want Bar chart on agent list and their shipment count who worked with us in Sri Lanka in last 2 months.\n",
      "SQL Query: select distinct AgentName, count(*) as shipment_count \n",
      "                    from RevandVolume_ShipmentDate WHERE AgentCountryName like 'United kingdom' and INCO = 'EXW'  \n",
      "                    and ShipmentDate >= DATEADD(MONTH, -2, GETDATE()) AND ShipmentDate <= GETDATE()\n",
      "                    group by AgentName\n",
      "\n",
      "Chart Type: bar chart\n",
      "Columns: AgentName, shipment_count\n",
      "\n",
      "Question: i need bar chart who are the clients we worked in Germeny in last 6 months with no of shipments?\n",
      "    SQLQuery:select ClientName, count(ShipmentNumber) as NumberofShipments\n",
      "from RevandVolume_ShipmentDate\n",
      "where ShipmentDate >= '2023-12-31' AND ShipmentDate <= GETDATE()\n",
      "and DestCity = 'Hamburg' and OriginCity = 'Colombo' \n",
      "and MainDepCode = 'FES' and ClientName is not null\n",
      "group by ClientName \n",
      "order by NumberofShipments Desc\n"
     ]
    }
   ],
   "source": [
    "print(prompt.format(input=\"i need bar chart who are the clients we worked in Germeny in last 6 months with no of shipments?\", sql_query=\"select ClientName, count(ShipmentNumber) as NumberofShipments\\nfrom RevandVolume_ShipmentDate\\nwhere ShipmentDate >= '2023-12-31' AND ShipmentDate <= GETDATE()\\nand DestCity = 'Hamburg' and OriginCity = 'Colombo' \\nand MainDepCode = 'FES' and ClientName is not null\\ngroup by ClientName \\norder by NumberofShipments Desc\"))"
   ]
  },
  {
   "cell_type": "code",
   "execution_count": 151,
   "metadata": {},
   "outputs": [
    {
     "ename": "",
     "evalue": "",
     "output_type": "error",
     "traceback": [
      "\u001b[1;31mThe Kernel crashed while executing code in the current cell or a previous cell. \n",
      "\u001b[1;31mPlease review the code in the cell(s) to identify a possible cause of the failure. \n",
      "\u001b[1;31mClick <a href='https://aka.ms/vscodeJupyterKernelCrash'>here</a> for more info. \n",
      "\u001b[1;31mView Jupyter <a href='command:jupyter.viewOutput'>log</a> for further details."
     ]
    }
   ],
   "source": [
    "Q1 = prompt.format(input=\"i need who are the clients we worked in Germeny in last 6 months with no of shipments?\", sql_query=\"select ClientName, count(ShipmentNumber) as NumberofShipments\\nfrom RevandVolume_ShipmentDate\\nwhere ShipmentDate >= '2023-12-31' AND ShipmentDate <= GETDATE()\\nand DestCity = 'Hamburg' and OriginCity = 'Colombo' \\nand MainDepCode = 'FES' and ClientName is not null\\ngroup by ClientName \\norder by NumberofShipments Desc\")"
   ]
  },
  {
   "cell_type": "code",
   "execution_count": 149,
   "metadata": {},
   "outputs": [
    {
     "data": {
      "text/plain": [
       "\"You are now generating visualizations based on the User Input and the SQL query provided.\\nFirst Identify the visualization type from the following list: bar chart, area chart, scatter chart, line chart, tabulate.\\nThen Identify the columns to be displayed in the visualization. Pay attention to use only Question & SQL Query as input to generate the visualization.\\nIf you cannot find the visualization type or columns, then just use Chart Type: None and Columns: None\\n\\nUse the following format:\\n\\nQuestion: Question here\\nSQLQuery: SQL Query here\\nChart Type: Identified chart type which user needed to generate\\nColumns: Identified columns which needs to generate charts\\n\\nNo pre-amble.\\n\\nQuestion: i need bar chart who are the clients we worked in Germeny in last 6 months with no of shipments?\\nSQL Query: select BillingClientName, count(ShipmentNumber) as ShipmentCount\\n                    from RevandVolume_ShipmentDate\\n                    where ShipmentDate >= DATEADD(MONTH, -6, GETDATE()) AND ShipmentDate <= GETDATE() \\n                    and OriginCountry = 'Germeny' group by BillingClientName order by ShipmentCount desc\\n                    \\nChart Type: bar chart\\nColumns: BillingClientName, ShipmentCount\\n\\nQuestion: i want Bar chart on agent list and their shipment count who worked with us in Sri Lanka in last 2 months.\\nSQL Query: select distinct AgentName, count(*) as shipment_count \\n                    from RevandVolume_ShipmentDate WHERE AgentCountryName like 'United kingdom' and INCO = 'EXW'  \\n                    and ShipmentDate >= DATEADD(MONTH, -2, GETDATE()) AND ShipmentDate <= GETDATE()\\n                    group by AgentName\\n\\nChart Type: bar chart\\nColumns: AgentName, shipment_count\\n\\nQuestion: i need who are the clients we worked in Germeny in last 6 months with no of shipments?\\n    SQLQuery:select ClientName, count(ShipmentNumber) as NumberofShipments\\nfrom RevandVolume_ShipmentDate\\nwhere ShipmentDate >= '2023-12-31' AND ShipmentDate <= GETDATE()\\nand DestCity = 'Hamburg' and OriginCity = 'Colombo' \\nand MainDepCode = 'FES' and ClientName is not null\\ngroup by ClientName \\norder by NumberofShipments Desc\""
      ]
     },
     "execution_count": 149,
     "metadata": {},
     "output_type": "execute_result"
    }
   ],
   "source": [
    "Q1"
   ]
  },
  {
   "cell_type": "code",
   "execution_count": 51,
   "metadata": {},
   "outputs": [],
   "source": [
    "from langchain_core.output_parsers import JsonOutputParser\n",
    "from langchain_core.pydantic_v1 import BaseModel, Field\n",
    "from typing import List, Set"
   ]
  },
  {
   "cell_type": "code",
   "execution_count": 84,
   "metadata": {},
   "outputs": [],
   "source": [
    "class Output(BaseModel):\n",
    "    ChartType: str = Field(description=\"The type of chart\")\n",
    "    Columns: list[str] = Field(description=\"The columns to be used for the chart\")"
   ]
  },
  {
   "cell_type": "code",
   "execution_count": 85,
   "metadata": {},
   "outputs": [],
   "source": [
    "parser = JsonOutputParser(pydantic_object=Output)"
   ]
  },
  {
   "cell_type": "code",
   "execution_count": 136,
   "metadata": {},
   "outputs": [],
   "source": [
    "from typing import Any\n",
    "from langchain_core.output_parsers import BaseGenerationOutputParser\n",
    "from langchain_core.outputs import ChatGeneration, Generation\n",
    "class TexttoJson(BaseGenerationOutputParser[str]):\n",
    "    \"Pass the output from the LLM to the JSON\"\n",
    "\n",
    "    def parse_result(self, result: List[Generation], *, partial: bool = False) -> Any:\n",
    "        generation = result[0]\n",
    "        json_output = convert_to_json(generation.text)\n",
    "        return json_output"
   ]
  },
  {
   "cell_type": "code",
   "execution_count": 137,
   "metadata": {},
   "outputs": [],
   "source": [
    "# chain = llm | parser\n",
    "chain  = llm | TexttoJson()"
   ]
  },
  {
   "cell_type": "code",
   "execution_count": 138,
   "metadata": {},
   "outputs": [],
   "source": [
    "import json\n",
    "def convert_to_json(text):\n",
    "    \n",
    "    # # Split the text by newline character\n",
    "    # lines = text.split(\"\\n\")\n",
    "\n",
    "    # # Initialize an empty dictionary to store key-value pairs\n",
    "    # output = {}\n",
    "\n",
    "    # # Iterate over each line and extract key-value pairs\n",
    "    # for line in lines:\n",
    "    #     key, value = line.split(\": \", 1)  # Split each line by \": \" and keep only the first split\n",
    "    #     if key == \"Columns\":\n",
    "    #         value = [col.strip() for col in value.split(\",\")]\n",
    "    #     output[key] = value\n",
    "\n",
    "    # # Convert the dictionary to JSON format\n",
    "    # json_output = json.dumps(output, indent=4)\n",
    "    # json_output = json.loads(text)\n",
    "    \n",
    "# Parse the response string\n",
    "    chart_type = text.split('\\n')[0].split(':')[1].strip()\n",
    "    columns = [column.strip() for column in text.split('\\n')[1].split(':')[1].split(',')]\n",
    "\n",
    "    # Construct a dictionary\n",
    "    json_output = {\n",
    "    \"Chart Type\": chart_type,\n",
    "    \"Columns\": columns\n",
    "        }\n",
    "\n",
    "    return json_output\n"
   ]
  },
  {
   "cell_type": "code",
   "execution_count": 150,
   "metadata": {},
   "outputs": [
    {
     "data": {
      "text/plain": [
       "{'Chart Type': 'bar chart', 'Columns': ['ClientName', 'NumberofShipments']}"
      ]
     },
     "execution_count": 150,
     "metadata": {},
     "output_type": "execute_result"
    }
   ],
   "source": [
    "output = chain.invoke(Q1)\n",
    "output # output"
   ]
  }
 ],
 "metadata": {
  "kernelspec": {
   "display_name": ".venv",
   "language": "python",
   "name": "python3"
  },
  "language_info": {
   "codemirror_mode": {
    "name": "ipython",
    "version": 3
   },
   "file_extension": ".py",
   "mimetype": "text/x-python",
   "name": "python",
   "nbconvert_exporter": "python",
   "pygments_lexer": "ipython3",
   "version": "3.10.4"
  }
 },
 "nbformat": 4,
 "nbformat_minor": 2
}
